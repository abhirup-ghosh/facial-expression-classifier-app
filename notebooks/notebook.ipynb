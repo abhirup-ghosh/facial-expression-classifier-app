{
  "cells": [
    {
      "cell_type": "markdown",
      "metadata": {
        "id": "view-in-github",
        "colab_type": "text"
      },
      "source": [
        "<a href=\"https://colab.research.google.com/github/abhirup-ghosh/facial-expression-classifier-app/blob/main/notebooks/notebook.ipynb\" target=\"_parent\"><img src=\"https://colab.research.google.com/assets/colab-badge.svg\" alt=\"Open In Colab\"/></a>"
      ]
    },
    {
      "cell_type": "markdown",
      "metadata": {
        "id": "729iFkj7Jk5f"
      },
      "source": [
        "# Project: Facial Emotion Recognition Predictor"
      ]
    },
    {
      "cell_type": "markdown",
      "metadata": {
        "id": "X5LtNa2oJk5g"
      },
      "source": [
        "## Dependencies"
      ]
    },
    {
      "cell_type": "code",
      "execution_count": 182,
      "metadata": {
        "id": "ynhhRSxxJk5g"
      },
      "outputs": [],
      "source": [
        "import pandas as pd\n",
        "import numpy as np\n",
        "import matplotlib.pyplot as plt\n",
        "import matplotlib as mpl\n",
        "import seaborn as sns\n",
        "import sklearn\n",
        "from sklearn.metrics import confusion_matrix, precision_score, recall_score, log_loss, accuracy_score\n",
        "\n",
        "import tensorflow as tf\n",
        "from tensorflow import keras\n",
        "\n",
        "import pickle\n",
        "\n",
        "sns.set_style(\"whitegrid\")\n",
        "sns.set_palette('muted')"
      ]
    },
    {
      "cell_type": "code",
      "execution_count": 183,
      "metadata": {
        "colab": {
          "base_uri": "https://localhost:8080/"
        },
        "id": "NcppVS4aJk5h",
        "outputId": "8b7c6c12-f98c-4eaf-e577-d3824a984302"
      },
      "outputs": [
        {
          "output_type": "stream",
          "name": "stdout",
          "text": [
            "pandas      : 1.5.3\n",
            "numpy       : 1.23.5\n",
            "matplotlib  : 3.7.1\n",
            "seaborn     : 0.12.2\n",
            "sklearn     : 1.2.2\n",
            "pickle      : 4.0\n",
            "tensorflow  : 2.14.0\n"
          ]
        }
      ],
      "source": [
        "for package in [pd, np, mpl, sns, sklearn, pickle, tf]:\n",
        "    if package == pickle: print(f'{package.__name__:<12}: {package.format_version}')\n",
        "    else: print(f'{package.__name__:<12}: {package.__version__}')"
      ]
    },
    {
      "cell_type": "code",
      "source": [
        "tf.keras.utils.set_random_seed(42)"
      ],
      "metadata": {
        "id": "sZ6VwmyrDdUp"
      },
      "execution_count": 184,
      "outputs": []
    },
    {
      "cell_type": "markdown",
      "metadata": {
        "id": "ETG1fdAVJk5h"
      },
      "source": [
        "## Data Loading\n",
        "\n",
        "The Kaggle dataset for this project can be downloaded from:\n",
        "```\n",
        "https://www.kaggle.com/c/challenges-in-representation-learning-facial-expression-recognition-challenge/data\n",
        "```\n",
        "\n",
        "Details of the dataset, including description of columns and associated datatypes, can be found [here](../data/README.md).\n",
        "\n",
        "* Load all the data\n",
        "* Separate into image arrays and labels\n",
        "* Separate into training, validation and test sets"
      ]
    },
    {
      "cell_type": "code",
      "source": [
        "from google.colab import drive\n",
        "drive.mount('/content/drive')"
      ],
      "metadata": {
        "colab": {
          "base_uri": "https://localhost:8080/"
        },
        "id": "8YlG6q3LbTD9",
        "outputId": "dcc61bb1-c9dc-4973-ef41-5959d56c4b9d"
      },
      "execution_count": 185,
      "outputs": [
        {
          "output_type": "stream",
          "name": "stdout",
          "text": [
            "Drive already mounted at /content/drive; to attempt to forcibly remount, call drive.mount(\"/content/drive\", force_remount=True).\n"
          ]
        }
      ]
    },
    {
      "cell_type": "code",
      "execution_count": 186,
      "metadata": {
        "id": "RDCGqrREJk5h"
      },
      "outputs": [],
      "source": [
        "data = pd.read_csv('/content/drive/MyDrive/icml_face_data.csv')\n",
        "#data = pd.read_csv('../data/challenges-in-representation-learning-facial-expression-recognition-challenge/icml_face_data.csv')\n",
        "data.columns = data.columns.str.strip()"
      ]
    },
    {
      "cell_type": "markdown",
      "source": [
        "## Data preprocessing\n",
        "\n",
        "* separate input data into image arrays and labels\n",
        "* define shape of input image array, emotion class labels (0 to 7) and number of classes (7)\n",
        "* separate data into training, validation and test sets\n",
        "* rescale images\n",
        "* one-hot-encode target classes\n",
        "\n"
      ],
      "metadata": {
        "id": "MtqaQtCs4veR"
      }
    },
    {
      "cell_type": "code",
      "execution_count": 187,
      "metadata": {
        "id": "V0T9WLF0Jk5h"
      },
      "outputs": [],
      "source": [
        "def prepare_data(data):\n",
        "    \"\"\" Prepare data for modeling\n",
        "        input: data frame with labels und pixel data\n",
        "        output: image and label array \"\"\"\n",
        "\n",
        "    image_array = np.zeros(shape=(len(data), 48, 48))\n",
        "    image_label = np.array(list(map(int, data['emotion'])))\n",
        "\n",
        "    for i, row in enumerate(data.index):\n",
        "      try:\n",
        "        image = np.fromstring(data.loc[row, 'pixels'], dtype=int, sep=' ')\n",
        "        image = np.reshape(image, (48, 48))\n",
        "        image_array[i] = image\n",
        "      except ValueError: continue\n",
        "\n",
        "    return image_array, image_label"
      ]
    },
    {
      "cell_type": "code",
      "source": [
        "# shape of input image arrays\n",
        "input_shape = (48,48,1)\n",
        "\n",
        "# emotion/class labels and number of classes\n",
        "class_labels = ['Anger', 'Disgust', 'Fear', 'Happy', 'Neutral', 'Sadness', \"Surprise\"]\n",
        "class_dict = dict(zip(range(7),class_labels))\n",
        "num_classes = len(class_labels)"
      ],
      "metadata": {
        "id": "2nJGULA9nOis"
      },
      "execution_count": 188,
      "outputs": []
    },
    {
      "cell_type": "code",
      "execution_count": 189,
      "metadata": {
        "id": "-FTJRb5fJk5h"
      },
      "outputs": [],
      "source": [
        "# separate image arrays into training, validation and test sets\n",
        "# use 'Usage' tags: Training, PublicTest and PrivateTest respectively\n",
        "\n",
        "train_image_array, train_image_label = prepare_data(data[data['Usage']=='Training'])\n",
        "val_image_array, val_image_label = prepare_data(data[data['Usage']=='PublicTest'])\n",
        "test_image_array, test_image_label = prepare_data(data[data['Usage']=='PrivateTest'])"
      ]
    },
    {
      "cell_type": "code",
      "source": [
        "# rescale image arrays\n",
        "\n",
        "train_image_array = train_image_array/255.\n",
        "val_image_array = val_image_array/255.\n",
        "test_image_array = test_image_array/255."
      ],
      "metadata": {
        "id": "GI-RjoazK-kb"
      },
      "execution_count": 190,
      "outputs": []
    },
    {
      "cell_type": "code",
      "execution_count": 191,
      "metadata": {
        "id": "ikRFhKilJk5i"
      },
      "outputs": [],
      "source": [
        "# one hot encode target classes\n",
        "\n",
        "y_train_one_hot = tf.keras.utils.to_categorical(train_image_label, num_classes=num_classes)\n",
        "y_val_one_hot = tf.keras.utils.to_categorical(val_image_label, num_classes=num_classes)\n",
        "y_test_one_hot = tf.keras.utils.to_categorical(test_image_label, num_classes=num_classes)"
      ]
    },
    {
      "cell_type": "markdown",
      "source": [
        "## EDA\n",
        "\n",
        "* Imbalanced dataset: all emotions not equally represented, especially 'Disgust'"
      ],
      "metadata": {
        "id": "fS-RpHI7ErBn"
      }
    },
    {
      "cell_type": "code",
      "source": [
        "explode = 6*[0] + [0.3]\n",
        "cmap = plt.get_cmap('tab20c')\n",
        "values = np.linspace(0, 1, 7)\n",
        "colors = cmap(values)\n",
        "\n",
        "fig, axs = plt.subplots(ncols=3, figsize=(21,5))\n",
        "\n",
        "data[data.Usage == 'Training'].replace(class_dict)['emotion'].value_counts(normalize=True).plot.pie(ax=axs[0], ylabel='', autopct='%.0f%%', explode = explode, colors=colors)\n",
        "data[data.Usage == 'PublicTest'].replace(class_dict)['emotion'].value_counts(normalize=True).plot.pie(ax=axs[1], ylabel='', autopct='%.0f%%', explode = explode, colors=colors)\n",
        "data[data.Usage == 'PrivateTest'].replace(class_dict)['emotion'].value_counts(normalize=True).plot.pie(ax=axs[2], ylabel='', autopct='%.0f%%', explode = explode, colors=colors)\n",
        "\n",
        "axs[0].set_title('Training')\n",
        "axs[1].set_title('Validation')\n",
        "axs[2].set_title('Test')"
      ],
      "metadata": {
        "colab": {
          "base_uri": "https://localhost:8080/",
          "height": 393
        },
        "id": "tfWlqh9WFEV7",
        "outputId": "9a1f444a-634e-4af3-e16f-0520bfcaa088"
      },
      "execution_count": 192,
      "outputs": [
        {
          "output_type": "execute_result",
          "data": {
            "text/plain": [
              "Text(0.5, 1.0, 'Test')"
            ]
          },
          "metadata": {},
          "execution_count": 192
        },
        {
          "output_type": "display_data",
          "data": {
            "text/plain": [
              "<Figure size 2100x500 with 3 Axes>"
            ],
            "image/png": "[encoded data removed]"
          },
          "metadata": {}
        }
      ]
    },
    {
      "cell_type": "markdown",
      "source": [
        "## Model: CNN\n",
        "\n",
        "1. **Visualization Functions:**\n",
        "   - `plot_metrics(history)`: Plots training and validation metrics over epochs using Matplotlib.\n",
        "   - `plot_confusion_matrix(y_pred_labels, test_image_array)`: Visualizes confusion matrices for highest and second-highest predicted labels using Seaborn and Matplotlib.\n",
        "   - `print_metrics(labels, predictions)`: Prints evaluation metrics like LogLoss, Accuracy, Precision, and Recall.\n",
        "\n",
        "2. **Model Construction:**\n",
        "   - `make_model(input_shape, num_classes, metrics, learning_rate)`: Defines a CNN model using Keras with data augmentation layers, convolutional layers, max-pooling, dense layers, and softmax activation.\n",
        "   - Custom metrics include Mean Squared Error, Binary Accuracy, Precision, Recall, AUC, and AUC for the precision-recall curve.\n",
        "\n",
        "3. **Training and Evaluation:**\n",
        "   - Creates an EarlyStopping callback to prevent overfitting during training.\n",
        "   - Defines hyperparameters such as epochs and batch size.\n",
        "   - Trains the model using training and validation data, employing the EarlyStopping callback.\n",
        "   - Makes predictions on validation and test datasets.\n",
        "   - Calls visualization functions to display training metrics, confusion matrices, and prints evaluation metrics."
      ],
      "metadata": {
        "id": "3kWELq6q5XLG"
      }
    },
    {
      "cell_type": "markdown",
      "source": [
        "### Visualisation Functions"
      ],
      "metadata": {
        "id": "5FvNGpqPB8TQ"
      }
    },
    {
      "cell_type": "code",
      "source": [
        "def plot_metrics(history):\n",
        "    \"\"\"\n",
        "    Plots training and validation metrics over epochs.\n",
        "\n",
        "    Parameters:\n",
        "    - history: A Keras history object containing training and validation metrics.\n",
        "\n",
        "    Returns:\n",
        "    - None\n",
        "    \"\"\"\n",
        "    # Get the number of metrics\n",
        "    N = len(list(history.history.keys()))\n",
        "\n",
        "    # Create subplots\n",
        "    fig, axs = plt.subplots(ncols=N // 2, figsize=(21, 3))\n",
        "    axs = axs.flatten()\n",
        "\n",
        "    # Plot each metric\n",
        "    for idx, metric in enumerate(list(history.history.keys())[:N // 2]):\n",
        "        axs[idx].plot(history.history[metric])\n",
        "        axs[idx].plot(history.history[f'val_{metric}'])\n",
        "\n",
        "        axs[idx].set_title(metric)\n",
        "        axs[idx].set_xlabel('Epoch')\n",
        "        axs[idx].legend(['Train', 'Test'], loc='upper left')\n",
        "\n",
        "    plt.tight_layout()\n",
        "\n",
        "def plot_confusion_matrix(y_pred_labels, test_image_array, second_highest_indices):\n",
        "    \"\"\"\n",
        "    Plots confusion matrices for the highest and second-highest predicted labels.\n",
        "\n",
        "    Parameters:\n",
        "    - y_pred_labels: Predicted labels\n",
        "    - test_image_array: True labels\n",
        "    - second_highest_indices: Second most guessed emotion\n",
        "\n",
        "    Returns:\n",
        "    - None\n",
        "    \"\"\"\n",
        "\n",
        "    # Create confusion matrices\n",
        "    conf_matrix = confusion_matrix(test_image_label, y_pred_labels)\n",
        "    conf_matrix_secondhighest = confusion_matrix(test_image_label, second_highest_indices)\n",
        "\n",
        "    # Calculate precision and recall for each emotion\n",
        "    TP_per_emotion = np.diag(conf_matrix)\n",
        "    FP_per_emotion = np.sum(conf_matrix, axis=0) - TP_per_emotion\n",
        "    FN_per_emotion = np.sum(conf_matrix, axis=1) - TP_per_emotion\n",
        "    precision_per_emotion = TP_per_emotion/(TP_per_emotion + FP_per_emotion)\n",
        "    recall_per_emotion = TP_per_emotion/(TP_per_emotion + FN_per_emotion)\n",
        "    accuracy_per_emotion = TP_per_emotion / (TP_per_emotion + FP_per_emotion + FN_per_emotion)\n",
        "    class_fraction = conf_matrix/conf_matrix.sum(axis=1)[:,None]\n",
        "\n",
        "    # Create subplots\n",
        "    fig, axs = plt.subplots(ncols=2, figsize=(12, 5))\n",
        "\n",
        "    # Plot confusion matrix for the highest predicted label\n",
        "    sns.heatmap(conf_matrix, annot=class_fraction, fmt='0.2f', cmap='Reds', cbar=False,\n",
        "                xticklabels=class_labels,\n",
        "                yticklabels=class_labels,\n",
        "                linewidth=0.5,\n",
        "                ax=axs[0])\n",
        "\n",
        "    for i in range(len(class_labels)):\n",
        "        axs[0].text(7.5, i + 0.5, f'P: {precision_per_emotion[i]:0.2f}\\nR: {recall_per_emotion[i]:0.2f}\\nAcc: {accuracy_per_emotion[i]:0.2f}',\n",
        "             ha='center', va='center', fontsize=8)\n",
        "\n",
        "    axs[0].xaxis.set_ticks_position('top')\n",
        "    axs[0].xaxis.set_label_position('top')\n",
        "    axs[0].set_xlabel('Predicted')\n",
        "    axs[0].set_ylabel('True')\n",
        "    axs[0].set_title('Confusion Matrix: Highest')\n",
        "\n",
        "    class_fraction_secondhighest = conf_matrix_secondhighest/conf_matrix_secondhighest.sum(axis=1)[:,None]\n",
        "\n",
        "    # Plot confusion matrix for the second-highest predicted label\n",
        "    sns.heatmap(conf_matrix_secondhighest, annot=class_fraction_secondhighest, fmt='0.2f', cmap='Reds', cbar=False,\n",
        "                xticklabels=class_labels,\n",
        "                yticklabels=class_labels,\n",
        "                linewidth=0.5,\n",
        "                ax=axs[1])\n",
        "    axs[1].xaxis.set_ticks_position('top')\n",
        "    axs[1].xaxis.set_label_position('top')\n",
        "    axs[1].set_xlabel('Predicted')\n",
        "    axs[1].set_ylabel('True')\n",
        "    axs[1].set_title('Confusion Matrix: Second Highest')\n",
        "\n",
        "    plt.tight_layout()\n",
        "\n",
        "def print_metrics(labels, predictions):\n",
        "    \"\"\"\n",
        "    Prints evaluation metrics.\n",
        "\n",
        "    Parameters:\n",
        "    - labels: True labels\n",
        "    - predictions: Predicted labels\n",
        "\n",
        "    Returns:\n",
        "    - str: Formatted string containing evaluation metrics\n",
        "    \"\"\"\n",
        "    predictions_labels = np.argmax(predictions, axis=1)\n",
        "    return (f\"LogLoss: {log_loss(labels, predictions):0.4f} \\\n",
        "              Accuracy: {accuracy_score(labels, predictions_labels):0.4f} \\\n",
        "              Precision: {precision_score(labels, predictions_labels, average='macro'):0.4f} \\\n",
        "              Recall: {recall_score(labels, predictions_labels, average='macro'):0.4f}\")\n"
      ],
      "metadata": {
        "id": "88AGPUT3GcMz"
      },
      "execution_count": 193,
      "outputs": []
    },
    {
      "cell_type": "markdown",
      "source": [
        "### Model Construction/Training/Evaluation"
      ],
      "metadata": {
        "id": "ZWhibiL0B_QR"
      }
    },
    {
      "cell_type": "code",
      "source": [
        "# Function to create and compile a Convolutional Neural Network (CNN) model\n",
        "def make_model(input_shape=(48, 48, 1),\n",
        "               num_classes=7,\n",
        "               metrics=['accuracy'],\n",
        "               learning_rate=1e-4):\n",
        "    \"\"\"\n",
        "    Create and compile a CNN model for image classification.\n",
        "\n",
        "    Parameters:\n",
        "    - input_shape: Tuple, shape of input images.\n",
        "    - num_classes: Integer, number of output classes.\n",
        "    - metrics: List of metrics to monitor during training.\n",
        "    - learning_rate: Float, learning rate for the optimizer.\n",
        "\n",
        "    Returns:\n",
        "    - Keras model: Compiled CNN model.\n",
        "    \"\"\"\n",
        "\n",
        "    # Initialising the CNN\n",
        "    model = keras.models.Sequential()\n",
        "\n",
        "    # Data augmentation layers\n",
        "    #model.add(keras.layers.RandomFlip(\"horizontal\", input_shape=input_shape))\n",
        "    #model.add(keras.layers.RandomTranslation(height_factor=0.1, width_factor=0.1))\n",
        "    #model.add(keras.layers.RandomContrast(factor=0.1))\n",
        "\n",
        "    # 1 - Convolution\n",
        "    model.add(keras.layers.Conv2D(64,(3,3), padding='same', input_shape=input_shape))\n",
        "    model.add(keras.layers.BatchNormalization())\n",
        "    model.add(keras.layers.Activation('relu'))\n",
        "    model.add(keras.layers.MaxPooling2D(pool_size=(2, 2)))\n",
        "    model.add(keras.layers.Dropout(0.25))\n",
        "\n",
        "    # 2nd Convolution layer\n",
        "    model.add(keras.layers.Conv2D(128,(5,5), padding='same'))\n",
        "    model.add(keras.layers.BatchNormalization())\n",
        "    model.add(keras.layers.Activation('relu'))\n",
        "    model.add(keras.layers.MaxPooling2D(pool_size=(2, 2)))\n",
        "    model.add(keras.layers.Dropout(0.25))\n",
        "\n",
        "    # 3rd Convolution layer\n",
        "    model.add(keras.layers.Conv2D(512,(3,3), padding='same'))\n",
        "    model.add(keras.layers.BatchNormalization())\n",
        "    model.add(keras.layers.Activation('relu'))\n",
        "    model.add(keras.layers.MaxPooling2D(pool_size=(2, 2)))\n",
        "    model.add(keras.layers.Dropout(0.25))\n",
        "\n",
        "    # 4th Convolution layer\n",
        "    model.add(keras.layers.Conv2D(512,(3,3), padding='same'))\n",
        "    model.add(keras.layers.BatchNormalization())\n",
        "    model.add(keras.layers.Activation('relu'))\n",
        "    model.add(keras.layers.MaxPooling2D(pool_size=(2, 2)))\n",
        "    model.add(keras.layers.Dropout(0.25))\n",
        "\n",
        "    # Flattening\n",
        "    model.add(keras.layers.Flatten())\n",
        "\n",
        "    # Fully connected layer 1st layer\n",
        "    model.add(keras.layers.Dense(256))\n",
        "    model.add(keras.layers.BatchNormalization())\n",
        "    model.add(keras.layers.Activation('relu'))\n",
        "    model.add(keras.layers.Dropout(0.25))\n",
        "\n",
        "    # Fully connected layer 2nd layer\n",
        "    model.add(keras.layers.Dense(512))\n",
        "    model.add(keras.layers.BatchNormalization())\n",
        "    model.add(keras.layers.Activation('relu'))\n",
        "    model.add(keras.layers.Dropout(0.25))\n",
        "\n",
        "    model.add(keras.layers.Dense(num_classes, activation='softmax'))\n",
        "\n",
        "    # Compile the model with specified optimizer, loss function, and metrics\n",
        "    optimizer = keras.optimizers.Adam(learning_rate=learning_rate)\n",
        "    loss = keras.losses.CategoricalCrossentropy()\n",
        "    model.compile(optimizer=optimizer,\n",
        "                  loss=loss,\n",
        "                  metrics=METRICS)  # Metrics defined below\n",
        "\n",
        "    return model\n",
        "\n",
        "\n",
        "# Define the EarlyStopping callback\n",
        "early_stopping = keras.callbacks.EarlyStopping(\n",
        "    monitor='val_loss',  # or 'val_accuracy' depending on your preference\n",
        "    patience=10,  # Number of epochs with no improvement after which training will be stopped\n",
        "    restore_best_weights=True,  # Restore weights from the epoch with the best value\n",
        "    verbose=1\n",
        ")\n",
        "\n",
        "# Custom metrics for model evaluation\n",
        "METRICS = [\n",
        "    keras.metrics.MeanSquaredError(name='Brier score'),\n",
        "    keras.metrics.BinaryAccuracy(name='accuracy'),\n",
        "    keras.metrics.Precision(name='precision'),\n",
        "    keras.metrics.Recall(name='recall'),\n",
        "    keras.metrics.AUC(name='auc'),\n",
        "    keras.metrics.AUC(name='prc', curve='PR'),  # precision-recall curve\n",
        "]\n",
        "\n",
        "# Create the CNN model using make_model function\n",
        "model = make_model(input_shape=input_shape,\n",
        "                   num_classes=num_classes,\n",
        "                   metrics=METRICS)\n",
        "\n",
        "# Display the model summary\n",
        "# model.summary()\n",
        "\n",
        "EPOCHS = 200\n",
        "BATCH_SIZE = 512\n",
        "\n",
        "# Train the model with early stopping\n",
        "history = model.fit(train_image_array, y_train_one_hot,\n",
        "                    validation_data=(val_image_array, y_val_one_hot),\n",
        "                    epochs=EPOCHS,\n",
        "                    batch_size=BATCH_SIZE,\n",
        "                    callbacks=[early_stopping],\n",
        "                    verbose=0)\n",
        "\n",
        "# Make predictions on validation and test datasets\n",
        "y_pred_val = model.predict(val_image_array)\n",
        "y_pred_val_labels = np.argmax(y_pred_val, axis=1)\n",
        "\n",
        "y_pred = model.predict(test_image_array)\n",
        "y_pred_labels = np.argmax(y_pred, axis=1)\n",
        "\n",
        "# Get the second-highest predicted label indices on validation and test datasets\n",
        "sorted_indices = np.argsort(y_pred, axis=1)[:, ::-1]\n",
        "second_highest_indices = sorted_indices[:, 1]\n",
        "\n",
        "# Visualize training metrics and confusion matrix\n",
        "plot_metrics(history)\n",
        "plot_confusion_matrix(y_pred_labels, test_image_array, second_highest_indices)\n",
        "\n",
        "# Print evaluation metrics for validation and test datasets\n",
        "print(f'Validation: {print_metrics(val_image_label, y_pred_val)}')\n",
        "print(f'Test: {print_metrics(test_image_label, y_pred)}')\n"
      ],
      "metadata": {
        "id": "F-OHAfpJ2b6P"
      },
      "execution_count": null,
      "outputs": []
    },
    {
      "cell_type": "markdown",
      "source": [
        "## Performance\n",
        "\n",
        "Metrics:\n",
        "* Average Precision: 0.63\n",
        "* Average Recall: 0.64\n",
        "* Average Accuracy: 0.65\n",
        "\n",
        "\n",
        "Best/Worst emotions (Accuracy):\n",
        "* Best emotion:\n",
        "* Worst emotion: Happy"
      ],
      "metadata": {
        "id": "AYnUcf89R9A1"
      }
    },
    {
      "cell_type": "markdown",
      "source": [
        "## Save model"
      ],
      "metadata": {
        "id": "eaZenfzk5avK"
      }
    },
    {
      "cell_type": "code",
      "source": [
        "model.save('emotion_classifier.h5')\n",
        "#model.save('../models/emotion_classifier.h5')"
      ],
      "metadata": {
        "id": "gjkS8-lGNSwd"
      },
      "execution_count": null,
      "outputs": []
    },
    {
      "cell_type": "markdown",
      "source": [
        "## Load Model"
      ],
      "metadata": {
        "id": "fm2EjbuU5cXg"
      }
    },
    {
      "cell_type": "code",
      "source": [
        "model = keras.models.load_model('emotion_classifier.h5')\n",
        "#model = keras.models.load_model('../models/emotion_classifier.h5')"
      ],
      "metadata": {
        "id": "ssM8iLdU5ieO"
      },
      "execution_count": null,
      "outputs": []
    },
    {
      "cell_type": "markdown",
      "source": [
        "## Predictions\n",
        "\n",
        "* Load a test image\n",
        "* Preprocess test image\n",
        "* Make prediction using loaded model\n",
        "* Calculate class probabilities and top prediction"
      ],
      "metadata": {
        "id": "ptjYvC1Z5eNz"
      }
    },
    {
      "cell_type": "code",
      "source": [
        "from tensorflow.keras.preprocessing.image import load_img\n",
        "\n",
        "img = load_img(\"/content/drive/MyDrive/test_image_anger.jpg\", target_size=(48, 48))\n",
        "#img = load_img(\"../scripts/test_image_anger.jpg\", target_size=(48, 48))\n",
        "true_test_label = 'anger'"
      ],
      "metadata": {
        "id": "WVn0LoD-qXLD"
      },
      "execution_count": null,
      "outputs": []
    },
    {
      "cell_type": "code",
      "source": [
        "x = np.array(img)\n",
        "x = x[:,:,0]\n",
        "X = np.array([x])"
      ],
      "metadata": {
        "id": "Jh1GlyXf0rQZ"
      },
      "execution_count": null,
      "outputs": []
    },
    {
      "cell_type": "code",
      "source": [
        "X = X/255."
      ],
      "metadata": {
        "id": "e0e28wJ82jc_"
      },
      "execution_count": null,
      "outputs": []
    },
    {
      "cell_type": "code",
      "source": [
        "pred = model.predict(X)"
      ],
      "metadata": {
        "id": "WF7GHayo2yAj"
      },
      "execution_count": null,
      "outputs": []
    },
    {
      "cell_type": "code",
      "source": [
        "print(dict(zip(class_labels, pred[0])))\n",
        "print(class_labels[np.argmax(pred, axis=1)[0]])\n"
      ],
      "metadata": {
        "id": "Rz_BMgY6hplj"
      },
      "execution_count": null,
      "outputs": []
    },
    {
      "cell_type": "markdown",
      "source": [
        "## Summary and Conclusions\n",
        "\n",
        "In this project, we developed a Convolutional Neural Network (CNN) model for facial expression recognition using the FER2013 dataset. The model was trained on a diverse set of emotions, including Anger, Disgust, Fear, Happy, Neutral, Sadness, and Surprise. The training process involved data preparation, model architecture design, and evaluation metrics definition.\n",
        "\n",
        "The CNN model demonstrated promising performance on both the validation and test datasets, as indicated by metrics such as accuracy, precision, recall, and log loss. The inclusion of early stopping helped prevent overfitting and ensured the selection of the best model weights during training.\n",
        "\n",
        "The project serves as a foundation for further exploration and refinement of facial expression recognition models. Future work may involve fine-tuning hyperparameters, exploring additional data augmentation techniques, and optimizing the model for real-world applications. The trained model has been saved for potential deployment and can be found in the 'models' directory.\n"
      ],
      "metadata": {
        "id": "66YZjmesOtHl"
      }
    }
  ],
  "metadata": {
    "colab": {
      "provenance": [],
      "gpuType": "T4",
      "include_colab_link": true
    },
    "kernelspec": {
      "display_name": "Python 3",
      "name": "python3"
    },
    "language_info": {
      "codemirror_mode": {
        "name": "ipython",
        "version": 3
      },
      "file_extension": ".py",
      "mimetype": "text/x-python",
      "name": "python",
      "nbconvert_exporter": "python",
      "pygments_lexer": "ipython3",
      "version": "3.9.18"
    },
    "accelerator": "GPU"
  },
  "nbformat": 4,
  "nbformat_minor": 0
}